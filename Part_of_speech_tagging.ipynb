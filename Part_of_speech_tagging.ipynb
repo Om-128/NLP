{
 "cells": [
  {
   "cell_type": "code",
   "execution_count": 1,
   "id": "4fe76dd0-787e-4217-9ee8-6012afc1bb45",
   "metadata": {},
   "outputs": [],
   "source": [
    "paragraph = \"\"\"I visited KUMAR in Siachen Glacier located at 17,000 feet altitude held by the Indian Army,\n",
    "            had a memorable underwater journey in INS Sindhurakshak and flew in a Sukhoi-30 fighter\n",
    "            experiencing 2.5 g. In these three experiences, I personally felt proud of our ever vigilant Soldiers, \n",
    "            Sailors and Air Warriors performing their tasks beyond the call of their duty even in the most adverse \n",
    "            circumstances natural and man made. During the last five years, I had an opportunity to present colours\n",
    "            to many regiments, participate in number of passing out parades, meet the troops who were going to undertake\n",
    "            peace missions and interact with the family members of our Defence Forces. Our Defence Forces are in a beautiful\n",
    "            mission. When the nation sleeps during night, Members of our Defence teams are awake to guard us and remain vigilant\n",
    "            to counter any threat. The Nation cherishes the valour, commitment and devotion to duty of our Defence Forces. Similarly,\n",
    "            I had opportunities to interact with members of our para-military forces, central and state police personnel including\n",
    "            internal security forces who are making immense contribution in \n",
    "            augmenting the safety and security of our citizens under difficult conditions.\"\"\""
   ]
  },
  {
   "cell_type": "code",
   "execution_count": 5,
   "id": "def4a516-1f99-4eaa-b516-017091b09595",
   "metadata": {},
   "outputs": [
    {
     "name": "stderr",
     "output_type": "stream",
     "text": [
      "[nltk_data] Downloading package averaged_perceptron_tagger_eng to\n",
      "[nltk_data]     C:\\Users\\Asus\\AppData\\Roaming\\nltk_data...\n",
      "[nltk_data]   Unzipping taggers\\averaged_perceptron_tagger_eng.zip.\n"
     ]
    }
   ],
   "source": [
    "import nltk\n",
    "nltk.download('averaged_perceptron_tagger_eng')\n",
    "sentences = nltk.sent_tokenize(paragraph)"
   ]
  },
  {
   "cell_type": "code",
   "execution_count": 6,
   "id": "89099459-f8d2-42e7-ae82-b1e670f48b36",
   "metadata": {},
   "outputs": [
    {
     "data": {
      "text/plain": [
       "['I visited KUMAR in Siachen Glacier located at 17,000 feet altitude held by the Indian Army,\\n            had a memorable underwater journey in INS Sindhurakshak and flew in a Sukhoi-30 fighter\\n            experiencing 2.5 g. In these three experiences, I personally felt proud of our ever vigilant Soldiers, \\n            Sailors and Air Warriors performing their tasks beyond the call of their duty even in the most adverse \\n            circumstances natural and man made.',\n",
       " 'During the last five years, I had an opportunity to present colours\\n            to many regiments, participate in number of passing out parades, meet the troops who were going to undertake\\n            peace missions and interact with the family members of our Defence Forces.',\n",
       " 'Our Defence Forces are in a beautiful\\n            mission.',\n",
       " 'When the nation sleeps during night, Members of our Defence teams are awake to guard us and remain vigilant\\n            to counter any threat.',\n",
       " 'The Nation cherishes the valour, commitment and devotion to duty of our Defence Forces.',\n",
       " 'Similarly,\\n            I had opportunities to interact with members of our para-military forces, central and state police personnel including\\n            internal security forces who are making immense contribution in \\n            augmenting the safety and security of our citizens under difficult conditions.']"
      ]
     },
     "execution_count": 6,
     "metadata": {},
     "output_type": "execute_result"
    }
   ],
   "source": [
    "sentences"
   ]
  },
  {
   "cell_type": "code",
   "execution_count": 7,
   "id": "a8a146b5-aa3e-42aa-bda7-ee6f4f666f3d",
   "metadata": {},
   "outputs": [
    {
     "name": "stdout",
     "output_type": "stream",
     "text": [
      "[('I', 'PRP'), ('visited', 'VBD'), ('KUMAR', 'NNP'), ('Siachen', 'NNP'), ('Glacier', 'NNP'), ('located', 'VBD'), ('17,000', 'CD'), ('feet', 'NNS'), ('altitude', 'JJ'), ('held', 'VBD'), ('Indian', 'JJ'), ('Army', 'NNP'), (',', ','), ('memorable', 'JJ'), ('underwater', 'JJ'), ('journey', 'NN'), ('INS', 'NNP'), ('Sindhurakshak', 'NNP'), ('flew', 'VBD'), ('Sukhoi-30', 'NNP'), ('fighter', 'NN'), ('experiencing', 'VBG'), ('2.5', 'CD'), ('g.', 'NN'), ('In', 'IN'), ('three', 'CD'), ('experiences', 'NNS'), (',', ','), ('I', 'PRP'), ('personally', 'RB'), ('felt', 'VBD'), ('proud', 'JJ'), ('ever', 'RB'), ('vigilant', 'JJ'), ('Soldiers', 'NNS'), (',', ','), ('Sailors', 'NNP'), ('Air', 'NNP'), ('Warriors', 'NNPS'), ('performing', 'VBG'), ('tasks', 'NNS'), ('beyond', 'IN'), ('call', 'NN'), ('duty', 'NN'), ('even', 'RB'), ('adverse', 'JJ'), ('circumstances', 'NNS'), ('natural', 'JJ'), ('man', 'NN'), ('made', 'VBD'), ('.', '.')]\n",
      "[('During', 'IN'), ('last', 'JJ'), ('five', 'CD'), ('years', 'NNS'), (',', ','), ('I', 'PRP'), ('opportunity', 'NN'), ('present', 'JJ'), ('colours', 'NNS'), ('many', 'JJ'), ('regiments', 'NNS'), (',', ','), ('participate', 'VB'), ('number', 'NN'), ('passing', 'VBG'), ('parades', 'NNS'), (',', ','), ('meet', 'NN'), ('troops', 'NNS'), ('going', 'VBG'), ('undertake', 'JJ'), ('peace', 'NN'), ('missions', 'NNS'), ('interact', 'VBP'), ('family', 'NN'), ('members', 'NNS'), ('Defence', 'NNP'), ('Forces', 'NNS'), ('.', '.')]\n",
      "[('Our', 'PRP$'), ('Defence', 'NN'), ('Forces', 'NNPS'), ('beautiful', 'JJ'), ('mission', 'NN'), ('.', '.')]\n",
      "[('When', 'WRB'), ('nation', 'NN'), ('sleeps', 'NNS'), ('night', 'NN'), (',', ','), ('Members', 'NNP'), ('Defence', 'NNP'), ('teams', 'NNS'), ('awake', 'VBP'), ('guard', 'JJ'), ('us', 'PRP'), ('remain', 'VBP'), ('vigilant', 'JJ'), ('counter', 'NN'), ('threat', 'NN'), ('.', '.')]\n",
      "[('The', 'DT'), ('Nation', 'NNP'), ('cherishes', 'NNS'), ('valour', 'VBP'), (',', ','), ('commitment', 'JJ'), ('devotion', 'NN'), ('duty', 'NN'), ('Defence', 'NNP'), ('Forces', 'NNP'), ('.', '.')]\n",
      "[('Similarly', 'RB'), (',', ','), ('I', 'PRP'), ('opportunities', 'VBP'), ('interact', 'JJ'), ('members', 'NNS'), ('para-military', 'JJ'), ('forces', 'NNS'), (',', ','), ('central', 'JJ'), ('state', 'NN'), ('police', 'NNS'), ('personnel', 'NNS'), ('including', 'VBG'), ('internal', 'JJ'), ('security', 'NN'), ('forces', 'NNS'), ('making', 'VBG'), ('immense', 'JJ'), ('contribution', 'NN'), ('augmenting', 'VBG'), ('safety', 'NN'), ('security', 'NN'), ('citizens', 'NNS'), ('difficult', 'JJ'), ('conditions', 'NNS'), ('.', '.')]\n"
     ]
    }
   ],
   "source": [
    "from nltk import pos_tag\n",
    "from nltk.corpus import stopwords\n",
    "for i in range(len(sentences)):\n",
    "    words = nltk.word_tokenize(sentences[i])\n",
    "    words = [word for word in words if word not in set(stopwords.words('english'))]\n",
    "    pos_tag = nltk.pos_tag(words)\n",
    "    print(pos_tag)"
   ]
  },
  {
   "cell_type": "code",
   "execution_count": 8,
   "id": "722b8a84-a6c2-46ab-8a59-8928f5f2e8c0",
   "metadata": {},
   "outputs": [
    {
     "data": {
      "text/plain": [
       "<function nltk.tag.pos_tag(tokens, tagset=None, lang='eng')>"
      ]
     },
     "execution_count": 8,
     "metadata": {},
     "output_type": "execute_result"
    }
   ],
   "source": [
    "nltk.pos_tag"
   ]
  },
  {
   "cell_type": "code",
   "execution_count": 11,
   "id": "8c74ca5d-a868-4786-83e1-7299b9d80f54",
   "metadata": {},
   "outputs": [
    {
     "name": "stdout",
     "output_type": "stream",
     "text": [
      "[('Taj', 'NNP'), ('mahal', 'NN'), ('is', 'VBZ'), ('a', 'DT'), ('beautiful', 'JJ'), ('monument', 'NN')]\n"
     ]
    }
   ],
   "source": [
    "print(nltk.pos_tag(\"Taj mahal is a beautiful monument\".split()))"
   ]
  },
  {
   "cell_type": "code",
   "execution_count": null,
   "id": "65f5bffc-73d7-4242-b90a-56587fe34941",
   "metadata": {},
   "outputs": [],
   "source": []
  }
 ],
 "metadata": {
  "kernelspec": {
   "display_name": "Python 3 (ipykernel)",
   "language": "python",
   "name": "python3"
  },
  "language_info": {
   "codemirror_mode": {
    "name": "ipython",
    "version": 3
   },
   "file_extension": ".py",
   "mimetype": "text/x-python",
   "name": "python",
   "nbconvert_exporter": "python",
   "pygments_lexer": "ipython3",
   "version": "3.13.5"
  }
 },
 "nbformat": 4,
 "nbformat_minor": 5
}
