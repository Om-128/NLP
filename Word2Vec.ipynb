{
 "cells": [
  {
   "cell_type": "code",
   "execution_count": 2,
   "id": "fbd4c8e3-dd98-4329-b55f-37086c40eb85",
   "metadata": {},
   "outputs": [
    {
     "name": "stdout",
     "output_type": "stream",
     "text": [
      "Collecting gensim\n",
      "  Using cached gensim-4.3.3.tar.gz (23.3 MB)\n",
      "  Installing build dependencies: started\n",
      "  Installing build dependencies: finished with status 'done'\n",
      "  Getting requirements to build wheel: started\n",
      "  Getting requirements to build wheel: finished with status 'done'\n",
      "  Preparing metadata (pyproject.toml): started\n",
      "  Preparing metadata (pyproject.toml): finished with status 'done'\n",
      "Collecting numpy<2.0,>=1.18.5 (from gensim)\n",
      "  Using cached numpy-1.26.4.tar.gz (15.8 MB)\n",
      "  Installing build dependencies: started\n",
      "  Installing build dependencies: finished with status 'done'\n",
      "  Getting requirements to build wheel: started\n",
      "  Getting requirements to build wheel: finished with status 'done'\n",
      "  Installing backend dependencies: started\n",
      "  Installing backend dependencies: finished with status 'done'\n",
      "  Preparing metadata (pyproject.toml): started\n",
      "  Preparing metadata (pyproject.toml): still running...\n",
      "  Preparing metadata (pyproject.toml): finished with status 'done'\n",
      "Collecting scipy<1.14.0,>=1.7.0 (from gensim)\n",
      "  Using cached scipy-1.13.1.tar.gz (57.2 MB)\n",
      "  Installing build dependencies: started\n",
      "  Installing build dependencies: finished with status 'done'\n",
      "  Getting requirements to build wheel: started\n",
      "  Getting requirements to build wheel: finished with status 'done'\n",
      "  Installing backend dependencies: started\n",
      "  Installing backend dependencies: finished with status 'done'\n",
      "  Preparing metadata (pyproject.toml): started\n",
      "  Preparing metadata (pyproject.toml): finished with status 'error'\n"
     ]
    },
    {
     "name": "stderr",
     "output_type": "stream",
     "text": [
      "  error: subprocess-exited-with-error\n",
      "  \n",
      "  Preparing metadata (pyproject.toml) did not run successfully.\n",
      "  exit code: 1\n",
      "  \n",
      "  [47 lines of output]\n",
      "  + meson setup C:\\Users\\Asus\\AppData\\Local\\Temp\\pip-install-s4oq176_\\scipy_80ae23f49d114304b417065b3a154714 C:\\Users\\Asus\\AppData\\Local\\Temp\\pip-install-s4oq176_\\scipy_80ae23f49d114304b417065b3a154714\\.mesonpy-gkpyygzi -Dbuildtype=release -Db_ndebug=if-release -Db_vscrt=md --native-file=C:\\Users\\Asus\\AppData\\Local\\Temp\\pip-install-s4oq176_\\scipy_80ae23f49d114304b417065b3a154714\\.mesonpy-gkpyygzi\\meson-python-native-file.ini\n",
      "  The Meson build system\n",
      "  Version: 1.9.0\n",
      "  Source dir: C:\\Users\\Asus\\AppData\\Local\\Temp\\pip-install-s4oq176_\\scipy_80ae23f49d114304b417065b3a154714\n",
      "  Build dir: C:\\Users\\Asus\\AppData\\Local\\Temp\\pip-install-s4oq176_\\scipy_80ae23f49d114304b417065b3a154714\\.mesonpy-gkpyygzi\n",
      "  Build type: native build\n",
      "  Activating VS 17.11.2\n",
      "  Project name: scipy\n",
      "  Project version: 1.13.1\n",
      "  C compiler for the host machine: cl (msvc 19.41.34120 \"Microsoft (R) C/C++ Optimizing Compiler Version 19.41.34120 for x64\")\n",
      "  C linker for the host machine: link link 14.41.34120.0\n",
      "  C++ compiler for the host machine: cl (msvc 19.41.34120 \"Microsoft (R) C/C++ Optimizing Compiler Version 19.41.34120 for x64\")\n",
      "  C++ linker for the host machine: link link 14.41.34120.0\n",
      "  Cython compiler for the host machine: cython (cython 3.0.12)\n",
      "  Host machine cpu family: x86_64\n",
      "  Host machine cpu: x86_64\n",
      "  Program python found: YES (C:\\Users\\Asus\\anaconda3\\python.exe)\n",
      "  Run-time dependency python found: YES 3.13\n",
      "  Program cython found: YES (C:\\Users\\Asus\\AppData\\Local\\Temp\\pip-build-env-eft67h2c\\overlay\\Scripts\\cython.EXE)\n",
      "  Compiler for C supports arguments -Wno-unused-but-set-variable: NO\n",
      "  Compiler for C supports arguments -Wno-unused-function: NO\n",
      "  Compiler for C supports arguments -Wno-conversion: NO\n",
      "  Compiler for C supports arguments -Wno-misleading-indentation: NO\n",
      "  Library m found: NO\n",
      "  \n",
      "  ..\\meson.build:78:0: ERROR: Unknown compiler(s): [['ifort'], ['gfortran'], ['flang-new'], ['flang'], ['pgfortran'], ['g95']]\n",
      "  The following exception(s) were encountered:\n",
      "  Running `ifort --help` gave \"[WinError 2] The system cannot find the file specified\"\n",
      "  Running `ifort --version` gave \"[WinError 2] The system cannot find the file specified\"\n",
      "  Running `ifort -V` gave \"[WinError 2] The system cannot find the file specified\"\n",
      "  Running `gfortran --help` gave \"[WinError 2] The system cannot find the file specified\"\n",
      "  Running `gfortran --version` gave \"[WinError 2] The system cannot find the file specified\"\n",
      "  Running `gfortran -V` gave \"[WinError 2] The system cannot find the file specified\"\n",
      "  Running `flang-new --help` gave \"[WinError 2] The system cannot find the file specified\"\n",
      "  Running `flang-new --version` gave \"[WinError 2] The system cannot find the file specified\"\n",
      "  Running `flang-new -V` gave \"[WinError 2] The system cannot find the file specified\"\n",
      "  Running `flang --help` gave \"[WinError 2] The system cannot find the file specified\"\n",
      "  Running `flang --version` gave \"[WinError 2] The system cannot find the file specified\"\n",
      "  Running `flang -V` gave \"[WinError 2] The system cannot find the file specified\"\n",
      "  Running `pgfortran --help` gave \"[WinError 2] The system cannot find the file specified\"\n",
      "  Running `pgfortran --version` gave \"[WinError 2] The system cannot find the file specified\"\n",
      "  Running `pgfortran -V` gave \"[WinError 2] The system cannot find the file specified\"\n",
      "  Running `g95 --help` gave \"[WinError 2] The system cannot find the file specified\"\n",
      "  Running `g95 --version` gave \"[WinError 2] The system cannot find the file specified\"\n",
      "  Running `g95 -V` gave \"[WinError 2] The system cannot find the file specified\"\n",
      "  \n",
      "  A full log can be found at C:\\Users\\Asus\\AppData\\Local\\Temp\\pip-install-s4oq176_\\scipy_80ae23f49d114304b417065b3a154714\\.mesonpy-gkpyygzi\\meson-logs\\meson-log.txt\n",
      "  [end of output]\n",
      "  \n",
      "  note: This error originates from a subprocess, and is likely not a problem with pip.\n",
      "error: metadata-generation-failed\n",
      "\n",
      "Encountered error while generating package metadata.\n",
      "\n",
      "See above for output.\n",
      "\n",
      "note: This is an issue with the package mentioned above, not pip.\n",
      "hint: See above for details.\n"
     ]
    }
   ],
   "source": [
    "!pip install gensim"
   ]
  },
  {
   "cell_type": "code",
   "execution_count": 3,
   "id": "e2a567e3-e0d5-4324-b63a-f0aa4bc9594d",
   "metadata": {},
   "outputs": [
    {
     "ename": "ModuleNotFoundError",
     "evalue": "No module named 'gensim'",
     "output_type": "error",
     "traceback": [
      "\u001b[1;31m---------------------------------------------------------------------------\u001b[0m",
      "\u001b[1;31mModuleNotFoundError\u001b[0m                       Traceback (most recent call last)",
      "Cell \u001b[1;32mIn[3], line 1\u001b[0m\n\u001b[1;32m----> 1\u001b[0m \u001b[38;5;28;01mimport\u001b[39;00m\u001b[38;5;250m \u001b[39m\u001b[38;5;21;01mgensim\u001b[39;00m\n",
      "\u001b[1;31mModuleNotFoundError\u001b[0m: No module named 'gensim'"
     ]
    }
   ],
   "source": [
    "import gensim"
   ]
  },
  {
   "cell_type": "code",
   "execution_count": null,
   "id": "663c9ea6-6d65-4a79-99e5-ded175bef955",
   "metadata": {},
   "outputs": [],
   "source": [
    "from gensim.model import Word2Vwc, KeyedVectors"
   ]
  },
  {
   "cell_type": "code",
   "execution_count": null,
   "id": "de499c18-b7e8-41da-8f24-16046f486837",
   "metadata": {},
   "outputs": [],
   "source": []
  }
 ],
 "metadata": {
  "kernelspec": {
   "display_name": "Python 3 (ipykernel)",
   "language": "python",
   "name": "python3"
  },
  "language_info": {
   "codemirror_mode": {
    "name": "ipython",
    "version": 3
   },
   "file_extension": ".py",
   "mimetype": "text/x-python",
   "name": "python",
   "nbconvert_exporter": "python",
   "pygments_lexer": "ipython3",
   "version": "3.13.5"
  }
 },
 "nbformat": 4,
 "nbformat_minor": 5
}
