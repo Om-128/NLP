{
 "cells": [
  {
   "cell_type": "code",
   "execution_count": 9,
   "id": "733191f1-e40e-4c66-8069-f441922f5944",
   "metadata": {},
   "outputs": [],
   "source": [
    "words = [\"wrote\", \"writing\", \"written\", \"going\", \"gone\", \"programming\", \"programs\", \"making\", \"factory\"]"
   ]
  },
  {
   "cell_type": "code",
   "execution_count": 10,
   "id": "ffcf5723-46b6-441a-9550-b262f3eb4554",
   "metadata": {},
   "outputs": [],
   "source": [
    "#Porter stemming\n",
    "\n",
    "from nltk.stem import PorterStemmer"
   ]
  },
  {
   "cell_type": "code",
   "execution_count": 11,
   "id": "ef925ea7-b655-485a-ad1b-1f7b66508b38",
   "metadata": {},
   "outputs": [],
   "source": [
    "porter = PorterStemmer() "
   ]
  },
  {
   "cell_type": "code",
   "execution_count": 12,
   "id": "cb6fb0c1-bf74-4e57-ab81-2032f2b9468f",
   "metadata": {},
   "outputs": [
    {
     "name": "stdout",
     "output_type": "stream",
     "text": [
      "wrote---->wrote\n",
      "writing---->write\n",
      "written---->written\n",
      "going---->go\n",
      "gone---->gone\n",
      "programming---->program\n",
      "programs---->program\n",
      "making---->make\n",
      "factory---->factori\n"
     ]
    }
   ],
   "source": [
    "for word in words:\n",
    "    print(word + \"---->\" + porter.stem(word))"
   ]
  },
  {
   "cell_type": "code",
   "execution_count": null,
   "id": "173bb77c-143a-4d69-acae-2b9d1456327b",
   "metadata": {},
   "outputs": [],
   "source": []
  },
  {
   "cell_type": "code",
   "execution_count": 13,
   "id": "f7195d96-7db1-4c1d-802c-c44bb073442e",
   "metadata": {},
   "outputs": [],
   "source": [
    "# RegexpStemmer stemmer \n",
    "from nltk.stem import RegexpStemmer"
   ]
  },
  {
   "cell_type": "code",
   "execution_count": 15,
   "id": "7ec95f9a-fd60-4495-b72d-656776856de1",
   "metadata": {},
   "outputs": [],
   "source": [
    "regexpStem = RegexpStemmer('ing$|s$|e$|able$', min=4)"
   ]
  },
  {
   "cell_type": "code",
   "execution_count": 18,
   "id": "87856bae-0e3a-495a-bcf2-e0a895050b54",
   "metadata": {},
   "outputs": [
    {
     "name": "stdout",
     "output_type": "stream",
     "text": [
      "wrote--->wrot\n",
      "writing--->writ\n",
      "written--->written\n",
      "going--->go\n",
      "gone--->gon\n",
      "programming--->programm\n",
      "programs--->program\n",
      "making--->mak\n",
      "factory--->factory\n"
     ]
    }
   ],
   "source": [
    "for word in words:\n",
    "    print(word + \"--->\"+ regexpStem.stem(word))"
   ]
  },
  {
   "cell_type": "code",
   "execution_count": 19,
   "id": "a0b92db4-436e-41bf-86a9-8e023828e506",
   "metadata": {},
   "outputs": [],
   "source": [
    "# Snowball stemmer \n",
    "\n",
    "from nltk.stem import SnowballStemmer"
   ]
  },
  {
   "cell_type": "code",
   "execution_count": 21,
   "id": "ce1bc79f-6a86-49be-82c6-0ee06d43dd4a",
   "metadata": {},
   "outputs": [],
   "source": [
    "snowball = SnowballStemmer(language=\"english\")"
   ]
  },
  {
   "cell_type": "code",
   "execution_count": 22,
   "id": "88003480-79e1-4508-b29c-fffb97f957aa",
   "metadata": {},
   "outputs": [
    {
     "name": "stdout",
     "output_type": "stream",
     "text": [
      "wrote--->wrote\n",
      "writing--->write\n",
      "written--->written\n",
      "going--->go\n",
      "gone--->gone\n",
      "programming--->program\n",
      "programs--->program\n",
      "making--->make\n",
      "factory--->factori\n"
     ]
    }
   ],
   "source": [
    "for word in words:\n",
    "    print(word + \"--->\"+ snowball.stem(word))"
   ]
  },
  {
   "cell_type": "code",
   "execution_count": null,
   "id": "a1881288-641d-4ad7-b6a6-f046b30f24fb",
   "metadata": {},
   "outputs": [],
   "source": []
  },
  {
   "cell_type": "code",
   "execution_count": null,
   "id": "2c9dd719-605f-4ab2-80af-53bc24000e9b",
   "metadata": {},
   "outputs": [],
   "source": []
  }
 ],
 "metadata": {
  "kernelspec": {
   "display_name": "Python [conda env:base] *",
   "language": "python",
   "name": "conda-base-py"
  },
  "language_info": {
   "codemirror_mode": {
    "name": "ipython",
    "version": 3
   },
   "file_extension": ".py",
   "mimetype": "text/x-python",
   "name": "python",
   "nbconvert_exporter": "python",
   "pygments_lexer": "ipython3",
   "version": "3.13.5"
  }
 },
 "nbformat": 4,
 "nbformat_minor": 5
}
