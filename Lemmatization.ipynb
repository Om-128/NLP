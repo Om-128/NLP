{
 "cells": [
  {
   "cell_type": "code",
   "execution_count": 6,
   "id": "2a844ca9-d0b7-4cb7-b01e-1a46a1172cce",
   "metadata": {},
   "outputs": [
    {
     "name": "stderr",
     "output_type": "stream",
     "text": [
      "[nltk_data] Downloading package wordnet to\n",
      "[nltk_data]     C:\\Users\\Asus\\AppData\\Roaming\\nltk_data...\n"
     ]
    },
    {
     "data": {
      "text/plain": [
       "True"
      ]
     },
     "execution_count": 6,
     "metadata": {},
     "output_type": "execute_result"
    }
   ],
   "source": [
    "from nltk.stem import WordNetLemmatizer\n",
    "import nltk\n",
    "nltk.download('wordnet')"
   ]
  },
  {
   "cell_type": "code",
   "execution_count": 7,
   "id": "240afb51-823e-4ce8-8c04-c77c759e5016",
   "metadata": {},
   "outputs": [],
   "source": [
    "wnl = WordNetLemmatizer()"
   ]
  },
  {
   "cell_type": "code",
   "execution_count": 8,
   "id": "ebcc2d7f-46b5-47cb-8863-b12e5b40d05b",
   "metadata": {},
   "outputs": [],
   "source": [
    "words = [\"wrote\", \"writing\", \"written\", \"going\", \"gone\", \"programming\", \"programs\", \"making\", \"factory\"]"
   ]
  },
  {
   "cell_type": "code",
   "execution_count": 15,
   "id": "3c8c0eab-c803-468d-b5be-6915df06e02a",
   "metadata": {},
   "outputs": [
    {
     "name": "stdout",
     "output_type": "stream",
     "text": [
      "wrote---->write\n",
      "writing---->write\n",
      "written---->write\n",
      "going---->go\n",
      "gone---->go\n",
      "programming---->program\n",
      "programs---->program\n",
      "making---->make\n",
      "factory---->factory\n"
     ]
    }
   ],
   "source": [
    "for word in words:\n",
    "    print(word + \"---->\" + wnl.lemmatize(word, pos='v'))"
   ]
  },
  {
   "cell_type": "code",
   "execution_count": null,
   "id": "ea393727-52a2-4651-8eb3-132459993752",
   "metadata": {},
   "outputs": [],
   "source": []
  }
 ],
 "metadata": {
  "kernelspec": {
   "display_name": "Python [conda env:base] *",
   "language": "python",
   "name": "conda-base-py"
  },
  "language_info": {
   "codemirror_mode": {
    "name": "ipython",
    "version": 3
   },
   "file_extension": ".py",
   "mimetype": "text/x-python",
   "name": "python",
   "nbconvert_exporter": "python",
   "pygments_lexer": "ipython3",
   "version": "3.13.5"
  }
 },
 "nbformat": 4,
 "nbformat_minor": 5
}
