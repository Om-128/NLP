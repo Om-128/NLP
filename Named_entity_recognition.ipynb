{
 "cells": [
  {
   "cell_type": "code",
   "execution_count": 1,
   "id": "18ec4eb7-f814-47c5-905a-deb76c8bcecf",
   "metadata": {},
   "outputs": [],
   "source": [
    "sentence = \"\"\"I visited KUMAR in Siachen Glacier located at 17,000 feet altitude held by the Indian Army,\n",
    "            had a memorable underwater journey in INS Sindhurakshak and flew in a Sukhoi-30 fighter\n",
    "            experiencing 2.5 g.\"\"\""
   ]
  },
  {
   "cell_type": "code",
   "execution_count": 2,
   "id": "88ca3bc8-30eb-4f87-8e81-9dc1f0451010",
   "metadata": {},
   "outputs": [
    {
     "name": "stderr",
     "output_type": "stream",
     "text": [
      "[nltk_data] Downloading package maxent_ne_chunker_tab to\n",
      "[nltk_data]     C:\\Users\\Asus\\AppData\\Roaming\\nltk_data...\n",
      "[nltk_data]   Package maxent_ne_chunker_tab is already up-to-date!\n",
      "[nltk_data] Downloading package words to\n",
      "[nltk_data]     C:\\Users\\Asus\\AppData\\Roaming\\nltk_data...\n",
      "[nltk_data]   Package words is already up-to-date!\n"
     ]
    }
   ],
   "source": [
    "import nltk\n",
    "nltk.download('maxent_ne_chunker_tab')\n",
    "nltk.download('words')\n",
    "words = nltk.word_tokenize(sentence)"
   ]
  },
  {
   "cell_type": "code",
   "execution_count": 3,
   "id": "82f96998-752a-4da6-8a78-c9e7bf5d85a9",
   "metadata": {},
   "outputs": [],
   "source": [
    "tagged_elements = nltk.pos_tag(words)"
   ]
  },
  {
   "cell_type": "code",
   "execution_count": 4,
   "id": "85a9f24c-b5a1-42b5-b4db-5f8bd2e7a6c1",
   "metadata": {},
   "outputs": [
    {
     "data": {
      "text/plain": [
       "[('I', 'PRP'),\n",
       " ('visited', 'VBD'),\n",
       " ('KUMAR', 'NNP'),\n",
       " ('in', 'IN'),\n",
       " ('Siachen', 'NNP'),\n",
       " ('Glacier', 'NNP'),\n",
       " ('located', 'VBD'),\n",
       " ('at', 'IN'),\n",
       " ('17,000', 'CD'),\n",
       " ('feet', 'NNS'),\n",
       " ('altitude', 'JJ'),\n",
       " ('held', 'VBN'),\n",
       " ('by', 'IN'),\n",
       " ('the', 'DT'),\n",
       " ('Indian', 'JJ'),\n",
       " ('Army', 'NNP'),\n",
       " (',', ','),\n",
       " ('had', 'VBD'),\n",
       " ('a', 'DT'),\n",
       " ('memorable', 'JJ'),\n",
       " ('underwater', 'NN'),\n",
       " ('journey', 'NN'),\n",
       " ('in', 'IN'),\n",
       " ('INS', 'NNP'),\n",
       " ('Sindhurakshak', 'NNP'),\n",
       " ('and', 'CC'),\n",
       " ('flew', 'VBD'),\n",
       " ('in', 'IN'),\n",
       " ('a', 'DT'),\n",
       " ('Sukhoi-30', 'JJ'),\n",
       " ('fighter', 'NN'),\n",
       " ('experiencing', 'VBG'),\n",
       " ('2.5', 'CD'),\n",
       " ('g', 'NN'),\n",
       " ('.', '.')]"
      ]
     },
     "execution_count": 4,
     "metadata": {},
     "output_type": "execute_result"
    }
   ],
   "source": [
    "tagged_elements"
   ]
  },
  {
   "cell_type": "code",
   "execution_count": 5,
   "id": "01599ee6-d7b6-470c-a43e-22e6a8585aa3",
   "metadata": {},
   "outputs": [],
   "source": [
    "nltk.ne_chunk(tagged_elements).draw()"
   ]
  },
  {
   "cell_type": "code",
   "execution_count": null,
   "id": "fd0a52ec-56fa-4670-9ce2-f6b176295965",
   "metadata": {},
   "outputs": [],
   "source": []
  }
 ],
 "metadata": {
  "kernelspec": {
   "display_name": "Python 3 (ipykernel)",
   "language": "python",
   "name": "python3"
  },
  "language_info": {
   "codemirror_mode": {
    "name": "ipython",
    "version": 3
   },
   "file_extension": ".py",
   "mimetype": "text/x-python",
   "name": "python",
   "nbconvert_exporter": "python",
   "pygments_lexer": "ipython3",
   "version": "3.13.5"
  }
 },
 "nbformat": 4,
 "nbformat_minor": 5
}
