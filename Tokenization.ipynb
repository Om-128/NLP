{
 "cells": [
  {
   "cell_type": "code",
   "execution_count": 1,
   "id": "484f93d0-9f60-4024-bcb3-79effcb03f10",
   "metadata": {},
   "outputs": [],
   "source": [
    "import nltk"
   ]
  },
  {
   "cell_type": "code",
   "execution_count": 27,
   "id": "5f445c7a-336c-4c27-9422-6fcfe699b3a8",
   "metadata": {},
   "outputs": [],
   "source": [
    "corpus = \"\"\"Hello world, wel-come to OM's universe. \n",
    "Please watch my github profile to understand oms universe.\n",
    "\"\"\""
   ]
  },
  {
   "cell_type": "code",
   "execution_count": 28,
   "id": "66546da0-11d2-41a1-a58a-613249e0598c",
   "metadata": {},
   "outputs": [
    {
     "name": "stdout",
     "output_type": "stream",
     "text": [
      "Hello world, wel-come to OM's universe. \n",
      "Please watch my github profile to understand oms universe.\n",
      "\n"
     ]
    }
   ],
   "source": [
    "print(corpus)"
   ]
  },
  {
   "cell_type": "code",
   "execution_count": 29,
   "id": "3f291782-0af1-4669-9329-d0acddf4547b",
   "metadata": {},
   "outputs": [],
   "source": [
    "# Tokenization\n",
    "\n",
    "# Sentence => Paragraph"
   ]
  },
  {
   "cell_type": "code",
   "execution_count": 30,
   "id": "394d4d99-db58-471e-9be2-b018b08fd25d",
   "metadata": {},
   "outputs": [
    {
     "name": "stderr",
     "output_type": "stream",
     "text": [
      "[nltk_data] Downloading package punkt_tab to\n",
      "[nltk_data]     C:\\Users\\Asus\\AppData\\Roaming\\nltk_data...\n",
      "[nltk_data]   Package punkt_tab is already up-to-date!\n"
     ]
    },
    {
     "data": {
      "text/plain": [
       "True"
      ]
     },
     "execution_count": 30,
     "metadata": {},
     "output_type": "execute_result"
    }
   ],
   "source": [
    "from nltk.tokenize import sent_tokenize\n",
    "\n",
    "import nltk\n",
    "nltk.download('punkt_tab')"
   ]
  },
  {
   "cell_type": "code",
   "execution_count": 31,
   "id": "5a7f58c6-2f0f-4ed4-ae4c-a976d4491f39",
   "metadata": {
    "scrolled": true
   },
   "outputs": [],
   "source": [
    "document = sent_tokenize(corpus)"
   ]
  },
  {
   "cell_type": "code",
   "execution_count": 32,
   "id": "2a09c1e3-410f-4b35-80c5-d804285bec4c",
   "metadata": {},
   "outputs": [],
   "source": [
    "from nltk.tokenize import word_tokenize"
   ]
  },
  {
   "cell_type": "code",
   "execution_count": 33,
   "id": "c408128e-c1f6-4a78-a814-8f3e257835a0",
   "metadata": {},
   "outputs": [
    {
     "data": {
      "text/plain": [
       "['Hello',\n",
       " 'world',\n",
       " ',',\n",
       " 'wel-come',\n",
       " 'to',\n",
       " 'OM',\n",
       " \"'s\",\n",
       " 'universe',\n",
       " '.',\n",
       " 'Please',\n",
       " 'watch',\n",
       " 'my',\n",
       " 'github',\n",
       " 'profile',\n",
       " 'to',\n",
       " 'understand',\n",
       " 'oms',\n",
       " 'universe',\n",
       " '.']"
      ]
     },
     "execution_count": 33,
     "metadata": {},
     "output_type": "execute_result"
    }
   ],
   "source": [
    "#Para to words\n",
    "word_tokenize(corpus)"
   ]
  },
  {
   "cell_type": "code",
   "execution_count": 34,
   "id": "0058cf90-4e81-4d9a-9437-19d6f5a90839",
   "metadata": {},
   "outputs": [
    {
     "name": "stdout",
     "output_type": "stream",
     "text": [
      "['Hello', 'world', ',', 'wel-come', 'to', 'OM', \"'s\", 'universe', '.']\n",
      "['Please', 'watch', 'my', 'github', 'profile', 'to', 'understand', 'oms', 'universe', '.']\n"
     ]
    }
   ],
   "source": [
    "#sentence to word\n",
    "for sentence in document:\n",
    "    print(word_tokenize(sentence))"
   ]
  },
  {
   "cell_type": "code",
   "execution_count": null,
   "id": "fd6a51de-3b78-4266-b75a-69c5048b743b",
   "metadata": {},
   "outputs": [],
   "source": [
    "from nltk.tokenize import wordpunct_tokenize"
   ]
  }
 ],
 "metadata": {
  "kernelspec": {
   "display_name": "Python 3 (ipykernel)",
   "language": "python",
   "name": "python3"
  },
  "language_info": {
   "codemirror_mode": {
    "name": "ipython",
    "version": 3
   },
   "file_extension": ".py",
   "mimetype": "text/x-python",
   "name": "python",
   "nbconvert_exporter": "python",
   "pygments_lexer": "ipython3",
   "version": "3.13.5"
  }
 },
 "nbformat": 4,
 "nbformat_minor": 5
}
