{
 "cells": [
  {
   "cell_type": "code",
   "execution_count": 38,
   "id": "9fcc692a-61db-4fac-bcf8-6ab77dfe5d05",
   "metadata": {},
   "outputs": [],
   "source": [
    "paragraph = \"\"\"I visited KUMAR in Siachen Glacier located at 17,000 feet altitude held by the Indian Army,\n",
    "            had a memorable underwater journey in INS Sindhurakshak and flew in a Sukhoi-30 fighter\n",
    "            experiencing 2.5 g. In these three experiences, I personally felt proud of our ever vigilant Soldiers, \n",
    "            Sailors and Air Warriors performing their tasks beyond the call of their duty even in the most adverse \n",
    "            circumstances natural and man made. During the last five years, I had an opportunity to present colours\n",
    "            to many regiments, participate in number of passing out parades, meet the troops who were going to undertake\n",
    "            peace missions and interact with the family members of our Defence Forces. Our Defence Forces are in a beautiful\n",
    "            mission. When the nation sleeps during night, Members of our Defence teams are awake to guard us and remain vigilant\n",
    "            to counter any threat. The Nation cherishes the valour, commitment and devotion to duty of our Defence Forces. Similarly,\n",
    "            I had opportunities to interact with members of our para-military forces, central and state police personnel including\n",
    "            internal security forces who are making immense contribution in \n",
    "            augmenting the safety and security of our citizens under difficult conditions.\"\"\""
   ]
  },
  {
   "cell_type": "code",
   "execution_count": 2,
   "id": "920c68f8-87a6-48ff-aa08-7f3d9be5ea11",
   "metadata": {},
   "outputs": [],
   "source": [
    "from nltk.stem import PorterStemmer\n",
    "from nltk.corpus import stopwords"
   ]
  },
  {
   "cell_type": "code",
   "execution_count": 3,
   "id": "a43b5a5e-c45c-4aa9-b018-61bc9d48b98d",
   "metadata": {},
   "outputs": [
    {
     "name": "stderr",
     "output_type": "stream",
     "text": [
      "[nltk_data] Downloading package stopwords to\n",
      "[nltk_data]     C:\\Users\\Asus\\AppData\\Roaming\\nltk_data...\n",
      "[nltk_data]   Unzipping corpora\\stopwords.zip.\n"
     ]
    },
    {
     "data": {
      "text/plain": [
       "True"
      ]
     },
     "execution_count": 3,
     "metadata": {},
     "output_type": "execute_result"
    }
   ],
   "source": [
    "import nltk\n",
    "nltk.download('stopwords')"
   ]
  },
  {
   "cell_type": "code",
   "execution_count": 10,
   "id": "af069c3f-c74d-4925-9ae7-d0f32ada61c6",
   "metadata": {},
   "outputs": [
    {
     "data": {
      "text/plain": [
       "['a',\n",
       " 'about',\n",
       " 'above',\n",
       " 'after',\n",
       " 'again',\n",
       " 'against',\n",
       " 'ain',\n",
       " 'all',\n",
       " 'am',\n",
       " 'an',\n",
       " 'and',\n",
       " 'any',\n",
       " 'are',\n",
       " 'aren',\n",
       " \"aren't\",\n",
       " 'as',\n",
       " 'at',\n",
       " 'be',\n",
       " 'because',\n",
       " 'been',\n",
       " 'before',\n",
       " 'being',\n",
       " 'below',\n",
       " 'between',\n",
       " 'both',\n",
       " 'but',\n",
       " 'by',\n",
       " 'can',\n",
       " 'couldn',\n",
       " \"couldn't\",\n",
       " 'd',\n",
       " 'did',\n",
       " 'didn',\n",
       " \"didn't\",\n",
       " 'do',\n",
       " 'does',\n",
       " 'doesn',\n",
       " \"doesn't\",\n",
       " 'doing',\n",
       " 'don',\n",
       " \"don't\",\n",
       " 'down',\n",
       " 'during',\n",
       " 'each',\n",
       " 'few',\n",
       " 'for',\n",
       " 'from',\n",
       " 'further',\n",
       " 'had',\n",
       " 'hadn',\n",
       " \"hadn't\",\n",
       " 'has',\n",
       " 'hasn',\n",
       " \"hasn't\",\n",
       " 'have',\n",
       " 'haven',\n",
       " \"haven't\",\n",
       " 'having',\n",
       " 'he',\n",
       " \"he'd\",\n",
       " \"he'll\",\n",
       " 'her',\n",
       " 'here',\n",
       " 'hers',\n",
       " 'herself',\n",
       " \"he's\",\n",
       " 'him',\n",
       " 'himself',\n",
       " 'his',\n",
       " 'how',\n",
       " 'i',\n",
       " \"i'd\",\n",
       " 'if',\n",
       " \"i'll\",\n",
       " \"i'm\",\n",
       " 'in',\n",
       " 'into',\n",
       " 'is',\n",
       " 'isn',\n",
       " \"isn't\",\n",
       " 'it',\n",
       " \"it'd\",\n",
       " \"it'll\",\n",
       " \"it's\",\n",
       " 'its',\n",
       " 'itself',\n",
       " \"i've\",\n",
       " 'just',\n",
       " 'll',\n",
       " 'm',\n",
       " 'ma',\n",
       " 'me',\n",
       " 'mightn',\n",
       " \"mightn't\",\n",
       " 'more',\n",
       " 'most',\n",
       " 'mustn',\n",
       " \"mustn't\",\n",
       " 'my',\n",
       " 'myself',\n",
       " 'needn',\n",
       " \"needn't\",\n",
       " 'no',\n",
       " 'nor',\n",
       " 'not',\n",
       " 'now',\n",
       " 'o',\n",
       " 'of',\n",
       " 'off',\n",
       " 'on',\n",
       " 'once',\n",
       " 'only',\n",
       " 'or',\n",
       " 'other',\n",
       " 'our',\n",
       " 'ours',\n",
       " 'ourselves',\n",
       " 'out',\n",
       " 'over',\n",
       " 'own',\n",
       " 're',\n",
       " 's',\n",
       " 'same',\n",
       " 'shan',\n",
       " \"shan't\",\n",
       " 'she',\n",
       " \"she'd\",\n",
       " \"she'll\",\n",
       " \"she's\",\n",
       " 'should',\n",
       " 'shouldn',\n",
       " \"shouldn't\",\n",
       " \"should've\",\n",
       " 'so',\n",
       " 'some',\n",
       " 'such',\n",
       " 't',\n",
       " 'than',\n",
       " 'that',\n",
       " \"that'll\",\n",
       " 'the',\n",
       " 'their',\n",
       " 'theirs',\n",
       " 'them',\n",
       " 'themselves',\n",
       " 'then',\n",
       " 'there',\n",
       " 'these',\n",
       " 'they',\n",
       " \"they'd\",\n",
       " \"they'll\",\n",
       " \"they're\",\n",
       " \"they've\",\n",
       " 'this',\n",
       " 'those',\n",
       " 'through',\n",
       " 'to',\n",
       " 'too',\n",
       " 'under',\n",
       " 'until',\n",
       " 'up',\n",
       " 've',\n",
       " 'very',\n",
       " 'was',\n",
       " 'wasn',\n",
       " \"wasn't\",\n",
       " 'we',\n",
       " \"we'd\",\n",
       " \"we'll\",\n",
       " \"we're\",\n",
       " 'were',\n",
       " 'weren',\n",
       " \"weren't\",\n",
       " \"we've\",\n",
       " 'what',\n",
       " 'when',\n",
       " 'where',\n",
       " 'which',\n",
       " 'while',\n",
       " 'who',\n",
       " 'whom',\n",
       " 'why',\n",
       " 'will',\n",
       " 'with',\n",
       " 'won',\n",
       " \"won't\",\n",
       " 'wouldn',\n",
       " \"wouldn't\",\n",
       " 'y',\n",
       " 'you',\n",
       " \"you'd\",\n",
       " \"you'll\",\n",
       " 'your',\n",
       " \"you're\",\n",
       " 'yours',\n",
       " 'yourself',\n",
       " 'yourselves',\n",
       " \"you've\"]"
      ]
     },
     "execution_count": 10,
     "metadata": {},
     "output_type": "execute_result"
    }
   ],
   "source": [
    "stopwords.words('english')"
   ]
  },
  {
   "cell_type": "markdown",
   "id": "e330bff5-94bc-4f3a-a4cb-e6b99caeee1c",
   "metadata": {},
   "source": [
    "# Tokenization"
   ]
  },
  {
   "cell_type": "code",
   "execution_count": 11,
   "id": "cfd391d0-dc72-4dd9-b254-ee0868eae792",
   "metadata": {},
   "outputs": [],
   "source": [
    "from nltk.stem import PorterStemmer"
   ]
  },
  {
   "cell_type": "code",
   "execution_count": 12,
   "id": "a125845e-0950-485b-a52a-dd75a9be8306",
   "metadata": {},
   "outputs": [],
   "source": [
    "stemmer = PorterStemmer()"
   ]
  },
  {
   "cell_type": "code",
   "execution_count": 39,
   "id": "60f49bc7-a3cb-4d53-9234-6b3f9430b2b6",
   "metadata": {},
   "outputs": [],
   "source": [
    "sentences = nltk.sent_tokenize(paragraph)"
   ]
  },
  {
   "cell_type": "code",
   "execution_count": 15,
   "id": "860486e2-48cc-4628-93ef-c423d5f0fd3b",
   "metadata": {},
   "outputs": [
    {
     "data": {
      "text/plain": [
       "list"
      ]
     },
     "execution_count": 15,
     "metadata": {},
     "output_type": "execute_result"
    }
   ],
   "source": [
    "type(sentences)"
   ]
  },
  {
   "cell_type": "code",
   "execution_count": 16,
   "id": "3f9dd759-e9ae-4770-9dc7-2b7735ce4e5c",
   "metadata": {},
   "outputs": [
    {
     "data": {
      "text/plain": [
       "['I visited KUMAR in Siachen Glacier located at 17,000 feet altitude held by the Indian Army,\\n            had a memorable underwater journey in INS Sindhurakshak and flew in a Sukhoi-30 fighter\\n            experiencing 2.5 g. In these three experiences, I personally felt proud of our ever vigilant Soldiers, \\n            Sailors and Air Warriors performing their tasks beyond the call of their duty even in the most adverse \\n            circumstances natural and man made.',\n",
       " 'During the last five years, I had an opportunity to present colours\\n            to many regiments, participate in number of passing out parades, meet the troops who were going to undertake\\n            peace missions and interact with the family members of our Defence Forces.',\n",
       " 'Our Defence Forces are in a beautiful\\n            mission.',\n",
       " 'When the nation sleeps during night, Members of our Defence teams are awake to guard us and remain vigilant\\n            to counter any threat.',\n",
       " 'The Nation cherishes the valour, commitment and devotion to duty of our Defence Forces.',\n",
       " 'Similarly,\\n            I had opportunities to interact with members of our para-military forces, central and state police personnel including\\n            internal security forces who are making immense contribution in \\n            augmenting the safety and security of our citizens under difficult conditions.']"
      ]
     },
     "execution_count": 16,
     "metadata": {},
     "output_type": "execute_result"
    }
   ],
   "source": [
    "sentences"
   ]
  },
  {
   "cell_type": "code",
   "execution_count": 17,
   "id": "b7b3d3a0-6a05-4799-8ab3-03c14b54eb23",
   "metadata": {},
   "outputs": [],
   "source": [
    "# Apply stopwords and filter then Apply stemming"
   ]
  },
  {
   "cell_type": "code",
   "execution_count": 23,
   "id": "1408cb0d-0121-41be-8f33-0faea495d5de",
   "metadata": {},
   "outputs": [],
   "source": [
    "for i in range(len(sentences)):\n",
    "    words = nltk.word_tokenize(sentences[i])\n",
    "    words = [stemmer.stem(word) for word in words if word not in set(stopwords.words('english'))]\n",
    "    sentences[i] = ' '.join(words) # Converting all list of words into sentences"
   ]
  },
  {
   "cell_type": "code",
   "execution_count": 22,
   "id": "4f690819-5e61-4d48-83da-7650b3fb1d9d",
   "metadata": {},
   "outputs": [
    {
     "data": {
      "text/plain": [
       "['visit kumar siachen glacier locat 17,000 feet altitud held indian armi , memor underwat journey sindhurakshak flew sukhoi-30 fighter experienc 2.5 g. three experi , person felt proud ever vigil soldier , sailor air warrior perform task beyond call duti even adver circumst natur man made .',\n",
       " 'dure last five year , opportun present colour mani regiment , particip number pass parad , meet troop go undertak peac mission interact famili member defenc forc .',\n",
       " 'defenc forc beauti mission .',\n",
       " 'nation sleep night , member defenc team awak guard us remain vigil counter threat .',\n",
       " 'nation cherish valour , commit devot duti defenc forc .',\n",
       " 'similarli , opportun interact member para-militari forc , central state polic personnel includ intern secur forc make immen contribut augment safeti secur citizen difficult condit .']"
      ]
     },
     "execution_count": 22,
     "metadata": {},
     "output_type": "execute_result"
    }
   ],
   "source": [
    "sentences"
   ]
  },
  {
   "cell_type": "code",
   "execution_count": 31,
   "id": "583d3b90-9100-4985-89a8-1234770e1984",
   "metadata": {},
   "outputs": [],
   "source": [
    " from nltk.stem import SnowballStemmer"
   ]
  },
  {
   "cell_type": "code",
   "execution_count": 32,
   "id": "17723b75-097a-4943-ab81-34ce4efe1089",
   "metadata": {},
   "outputs": [],
   "source": [
    "snowball = SnowballStemmer('english')"
   ]
  },
  {
   "cell_type": "code",
   "execution_count": 33,
   "id": "11ce974c-fc8c-49f2-bcf8-b0415777a65a",
   "metadata": {},
   "outputs": [],
   "source": [
    "sentences = nltk.sent_tokenize(paragraph)"
   ]
  },
  {
   "cell_type": "code",
   "execution_count": 34,
   "id": "c76a4aca-53fd-4137-803c-c475db981216",
   "metadata": {},
   "outputs": [],
   "source": [
    "for i in range(len(sentences)):\n",
    "    words = nltk.word_tokenize(sentences[i])\n",
    "    words = [snowball.stem(word) for word in words if word not in set(stopwords.words('english'))]\n",
    "    sentences[i] = ' '.join(words) # Converting all list of words into sentences"
   ]
  },
  {
   "cell_type": "code",
   "execution_count": 35,
   "id": "77e097b2-813d-4b77-b458-3fac317debab",
   "metadata": {},
   "outputs": [
    {
     "data": {
      "text/plain": [
       "['i visit kumar siachen glacier locat 17,000 feet altitud held indian armi , memor underwat journey in sindhurakshak flew sukhoi-30 fighter experienc 2.5 g. in three experi , i person felt proud ever vigil soldier , sailor air warrior perform task beyond call duti even advers circumst natur man made .',\n",
       " 'dure last five year , i opportun present colour mani regiment , particip number pass parad , meet troop go undertak peac mission interact famili member defenc forc .',\n",
       " 'our defenc forc beauti mission .',\n",
       " 'when nation sleep night , member defenc team awak guard us remain vigil counter threat .',\n",
       " 'the nation cherish valour , commit devot duti defenc forc .',\n",
       " 'similar , i opportun interact member para-militari forc , central state polic personnel includ intern secur forc make immens contribut augment safeti secur citizen difficult condit .']"
      ]
     },
     "execution_count": 35,
     "metadata": {},
     "output_type": "execute_result"
    }
   ],
   "source": [
    "sentences"
   ]
  },
  {
   "cell_type": "code",
   "execution_count": 36,
   "id": "1e460a7b-8f68-4d3d-8c08-61322ac26254",
   "metadata": {},
   "outputs": [],
   "source": [
    "from nltk.stem import WordNetLemmatizer"
   ]
  },
  {
   "cell_type": "code",
   "execution_count": 37,
   "id": "5713711f-dc2e-4f44-b0de-04cc6adb9751",
   "metadata": {},
   "outputs": [],
   "source": [
    "lemma = WordNetLemmatizer()"
   ]
  },
  {
   "cell_type": "code",
   "execution_count": 42,
   "id": "5f758853-8c53-4cf2-809e-5d7cdbfb4899",
   "metadata": {},
   "outputs": [],
   "source": [
    "for i in range(len(sentences)):\n",
    "    words = nltk.word_tokenize(sentences[i])\n",
    "    words = [lemma.lemmatize(word, pos='v') for word in words if word not in set(stopwords.words('english'))]\n",
    "    sentences[i] = ' '.join(words) # Converting all list of words into sentences"
   ]
  },
  {
   "cell_type": "code",
   "execution_count": 43,
   "id": "08054ae0-6d9f-4cf5-9ad0-1dec8a6d8bd0",
   "metadata": {},
   "outputs": [
    {
     "data": {
      "text/plain": [
       "['I visit KUMAR Siachen Glacier locate 17,000 foot altitude hold Indian Army , memorable underwater journey INS Sindhurakshak fly Sukhoi-30 fighter experience 2.5 g. In three experience , I personally felt proud ever vigilant Soldiers , Sailors Air Warriors perform task beyond call duty even adverse circumstance natural man make .',\n",
       " 'During last five year , I opportunity present colour many regiment , participate number pass parade , meet troop go undertake peace mission interact family member Defence Forces .',\n",
       " 'Our Defence Forces beautiful mission .',\n",
       " 'When nation sleep night , Members Defence team awake guard u remain vigilant counter threat .',\n",
       " 'The Nation cherish valour , commitment devotion duty Defence Forces .',\n",
       " 'Similarly , I opportunity interact member para-military force , central state police personnel include internal security force make immense contribution augment safety security citizen difficult condition .']"
      ]
     },
     "execution_count": 43,
     "metadata": {},
     "output_type": "execute_result"
    }
   ],
   "source": [
    "sentences"
   ]
  },
  {
   "cell_type": "code",
   "execution_count": null,
   "id": "abc67de8-7873-4d96-986a-6c6f599a5e35",
   "metadata": {},
   "outputs": [],
   "source": []
  }
 ],
 "metadata": {
  "kernelspec": {
   "display_name": "Python 3 (ipykernel)",
   "language": "python",
   "name": "python3"
  },
  "language_info": {
   "codemirror_mode": {
    "name": "ipython",
    "version": 3
   },
   "file_extension": ".py",
   "mimetype": "text/x-python",
   "name": "python",
   "nbconvert_exporter": "python",
   "pygments_lexer": "ipython3",
   "version": "3.13.5"
  }
 },
 "nbformat": 4,
 "nbformat_minor": 5
}
